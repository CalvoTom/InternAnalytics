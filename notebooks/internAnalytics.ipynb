{
 "cells": [
  {
   "cell_type": "markdown",
   "metadata": {},
   "source": [
    "# <center> InternAnalytics </center> #"
   ]
  },
  {
   "cell_type": "markdown",
   "metadata": {},
   "source": [
    "### 1. Introduction ###\n",
    "Objectif :\n",
    "Le projet InternAnalytics a pour but d’analyser une base de données regroupant des offres d'emploi afin de tirer des insights exploitables pour :\n",
    "\n",
    "- Comprendre les tendances du marché de l’emploi (secteurs les plus actifs, localisations recherchées, etc.).\n",
    "- Identifier les facteurs d’attractivité des offres d’emploi (entreprises populaires, offres les plus vues).\n",
    "- Évaluer les tendances salariales en fonction des secteurs, des localisations, et des postes proposés.\n",
    "- Offrir des recommandations exploitables, par exemple :\n",
    "    -  Aux chercheurs d’emploi : quels secteurs et localisations privilégier.\n",
    "    - Aux recruteurs : comment optimiser leurs offres pour attirer plus de candidats.\n",
    "- S’informer sur les offres d’alternance :\n",
    "    - Identifier les entreprises qui proposent des contrats en alternance.\n",
    "    - Analyser les postes et secteurs qui recrutent le plus en alternance.\n",
    "    - Comprendre les salaires et avantages liés aux offres d’alternance.\n",
    "- Champs disponibles : `job_id`, `company_name`, `title`, `description`, `max_salary`, `pay_period`, `location`, `company_id`, `views, med_salary`.\n",
    "\n",
    "Ce projet vise donc à offrir une vision globale et spécifique des opportunités sur le marché, avec un focus particulier sur les alternances, pour mieux répondre aux besoins des étudiants et jeunes professionnels.\n"
   ]
  },
  {
   "cell_type": "markdown",
   "metadata": {},
   "source": [
    "### 2. Chargement des données ###\n",
    "- Importation des bibliothèques nécessaires (e.g., pandas, numpy, matplotlib, seaborn).\n",
    "- Chargement du fichier de données (CSV, SQL, ou autre).\n",
    "- Aperçu des données (df.head() et df.info())."
   ]
  },
  {
   "cell_type": "code",
   "execution_count": 2,
   "metadata": {},
   "outputs": [
    {
     "ename": "OSError",
     "evalue": "Could not find kaggle.json. Make sure it's located in /home/tom/.config/kaggle. Or use the environment method. See setup instructions at https://github.com/Kaggle/kaggle-api/",
     "output_type": "error",
     "traceback": [
      "\u001b[0;31m---------------------------------------------------------------------------\u001b[0m",
      "\u001b[0;31mOSError\u001b[0m                                   Traceback (most recent call last)",
      "Cell \u001b[0;32mIn[2], line 9\u001b[0m\n\u001b[1;32m      7\u001b[0m \u001b[38;5;28;01mimport\u001b[39;00m\u001b[38;5;250m \u001b[39m\u001b[38;5;21;01mos\u001b[39;00m\n\u001b[1;32m      8\u001b[0m \u001b[38;5;28;01mimport\u001b[39;00m\u001b[38;5;250m \u001b[39m\u001b[38;5;21;01mjson\u001b[39;00m\n\u001b[0;32m----> 9\u001b[0m \u001b[38;5;28;01mfrom\u001b[39;00m\u001b[38;5;250m \u001b[39m\u001b[38;5;21;01mkaggle\u001b[39;00m\u001b[38;5;21;01m.\u001b[39;00m\u001b[38;5;21;01mapi\u001b[39;00m\u001b[38;5;21;01m.\u001b[39;00m\u001b[38;5;21;01mkaggle_api_extended\u001b[39;00m\u001b[38;5;250m \u001b[39m\u001b[38;5;28;01mimport\u001b[39;00m KaggleApi\n",
      "File \u001b[0;32m~/.local/lib/python3.10/site-packages/kaggle/__init__.py:7\u001b[0m\n\u001b[1;32m      4\u001b[0m \u001b[38;5;28;01mfrom\u001b[39;00m\u001b[38;5;250m \u001b[39m\u001b[38;5;21;01mkaggle\u001b[39;00m\u001b[38;5;21;01m.\u001b[39;00m\u001b[38;5;21;01mapi_client\u001b[39;00m\u001b[38;5;250m \u001b[39m\u001b[38;5;28;01mimport\u001b[39;00m ApiClient\n\u001b[1;32m      6\u001b[0m api \u001b[38;5;241m=\u001b[39m KaggleApi(ApiClient())\n\u001b[0;32m----> 7\u001b[0m \u001b[43mapi\u001b[49m\u001b[38;5;241;43m.\u001b[39;49m\u001b[43mauthenticate\u001b[49m\u001b[43m(\u001b[49m\u001b[43m)\u001b[49m\n",
      "File \u001b[0;32m~/.local/lib/python3.10/site-packages/kaggle/api/kaggle_api_extended.py:407\u001b[0m, in \u001b[0;36mKaggleApi.authenticate\u001b[0;34m(self)\u001b[0m\n\u001b[1;32m    405\u001b[0m         \u001b[38;5;28;01mreturn\u001b[39;00m\n\u001b[1;32m    406\u001b[0m     \u001b[38;5;28;01melse\u001b[39;00m:\n\u001b[0;32m--> 407\u001b[0m         \u001b[38;5;28;01mraise\u001b[39;00m \u001b[38;5;167;01mIOError\u001b[39;00m(\u001b[38;5;124m'\u001b[39m\u001b[38;5;124mCould not find \u001b[39m\u001b[38;5;132;01m{}\u001b[39;00m\u001b[38;5;124m. Make sure it\u001b[39m\u001b[38;5;130;01m\\'\u001b[39;00m\u001b[38;5;124ms located in\u001b[39m\u001b[38;5;124m'\u001b[39m\n\u001b[1;32m    408\u001b[0m                       \u001b[38;5;124m'\u001b[39m\u001b[38;5;124m \u001b[39m\u001b[38;5;132;01m{}\u001b[39;00m\u001b[38;5;124m. Or use the environment method. See setup\u001b[39m\u001b[38;5;124m'\u001b[39m\n\u001b[1;32m    409\u001b[0m                       \u001b[38;5;124m'\u001b[39m\u001b[38;5;124m instructions at\u001b[39m\u001b[38;5;124m'\u001b[39m\n\u001b[1;32m    410\u001b[0m                       \u001b[38;5;124m'\u001b[39m\u001b[38;5;124m https://github.com/Kaggle/kaggle-api/\u001b[39m\u001b[38;5;124m'\u001b[39m\u001b[38;5;241m.\u001b[39mformat(\n\u001b[1;32m    411\u001b[0m                           \u001b[38;5;28mself\u001b[39m\u001b[38;5;241m.\u001b[39mconfig_file, \u001b[38;5;28mself\u001b[39m\u001b[38;5;241m.\u001b[39mconfig_dir))\n\u001b[1;32m    413\u001b[0m \u001b[38;5;66;03m# Step 3: load into configuration!\u001b[39;00m\n\u001b[1;32m    414\u001b[0m \u001b[38;5;28mself\u001b[39m\u001b[38;5;241m.\u001b[39m_load_config(config_data)\n",
      "\u001b[0;31mOSError\u001b[0m: Could not find kaggle.json. Make sure it's located in /home/tom/.config/kaggle. Or use the environment method. See setup instructions at https://github.com/Kaggle/kaggle-api/"
     ]
    }
   ],
   "source": [
    "# Utility import\n",
    "import numpy as np\n",
    "import matplotlib.pyplot as plt\n",
    "import pandas as pd\n",
    "\n",
    "# Dataset import\n",
    "import os\n",
    "import json\n",
    "from kaggle.api.kaggle_api_extended import KaggleApi"
   ]
  },
  {
   "cell_type": "code",
   "execution_count": 47,
   "metadata": {},
   "outputs": [
    {
     "name": "stdout",
     "output_type": "stream",
     "text": [
      "Téléchargement en cours...\n",
      "Dataset URL: https://www.kaggle.com/datasets/arshkon/linkedin-job-postings\n",
      "Dataset téléchargé et extrait dans : ../data/raw\n"
     ]
    }
   ],
   "source": [
    "# Dowload dataset using kaggle API\n",
    "path = os.getcwd().replace(\"notebooks\", \"kaggle.json\")\n",
    "\n",
    "with open(path, 'r') as file:\n",
    "    kaggle_creds = json.load(file)\n",
    "\n",
    "os.environ[\"KAGGLE_USERNAME\"] = kaggle_creds[\"username\"]\n",
    "os.environ[\"KAGGLE_KEY\"] = kaggle_creds[\"key\"]\n",
    "\n",
    "dataset_name = 'arshkon/linkedin-job-postings'\n",
    "download_path = \"../data/raw\"\n",
    "os.makedirs(download_path, exist_ok=True)\n",
    "\n",
    "api = KaggleApi()\n",
    "api.authenticate()\n",
    "print(\"Téléchargement en cours...\")\n",
    "api.dataset_download_files(dataset_name, path=download_path, unzip=True)\n",
    "print(f\"Dataset téléchargé et extrait dans : {download_path}\")"
   ]
  },
  {
   "cell_type": "markdown",
   "metadata": {},
   "source": [
    "### 3. Nettoyage et Préparation des Données ###\n",
    "- Détection des données manquantes : Vérifier les colonnes avec des valeurs NaN ou vides.\n",
    "- Traitement des doublons : Vérifier et supprimer les entrées redondantes si nécessaire.\n",
    "- Standardisation des colonnes : Par exemple, uniformiser les formats des - salaires (max_salary, med_salary) ou des localisations (location).\n",
    "- Conversion des types de données pour faciliter l’analyse :\n",
    "    - pay_period en fréquence (mensuel, annuel, etc.).\n",
    "views en entier.\n",
    "    - Extraction de catégories pertinentes à partir de description (ex : analyse des mots-clés)."
   ]
  },
  {
   "cell_type": "code",
   "execution_count": 4,
   "metadata": {},
   "outputs": [],
   "source": [
    "# Charger les donnée dans un dataframe pandas \n",
    "data = pd.read_csv(\"../data/raw/postings.csv\")"
   ]
  },
  {
   "cell_type": "code",
   "execution_count": 5,
   "metadata": {},
   "outputs": [],
   "source": [
    "data_clean = data.drop_duplicates()\n",
    "data_clean = data_clean.drop(columns=['med_salary', 'min_salary', 'max_salary', 'listed_time', 'posting_domain', 'original_listed_time', 'job_posting_url', 'expiry', 'closed_time', 'application_url' ,'sponsored', 'zip_code', 'fips', 'compensation_type'])"
   ]
  },
  {
   "cell_type": "code",
   "execution_count": 6,
   "metadata": {},
   "outputs": [],
   "source": [
    "data_clean['remote_allowed'] = data_clean['remote_allowed'].fillna(0).astype(int)\n",
    "data_clean['applies'] = data_clean['applies'].fillna(0).astype(int)\n",
    "for elt in data_clean :\n",
    "    data_clean[elt] = data_clean[elt].fillna('Not specified')\n",
    "\n",
    "data_clean = data_clean.dropna(subset=['company_name'])\n",
    "\n",
    "os.makedirs(\"../data/interim/\", exist_ok=True)\n",
    "data_clean.to_csv(\"../data/interim/posting_clean.csv\", header=True)"
   ]
  },
  {
   "cell_type": "markdown",
   "metadata": {},
   "source": [
    "### 4. Exploration des Données (EDA - Exploratory Data Analysis) ###\n",
    "- Statistiques descriptives :\n",
    "    - Distribution des salaires (max_salary, med_salary).\n",
    "    - Entreprises avec le plus d’offres (company_name).\n",
    "- Visualisation des données :\n",
    "    - Histogrammes et boxplots pour les salaires.\n",
    "    - Nuage de points pour corréler les salaires et les vues.\n",
    "    - Graphiques géographiques pour la localisation des offres (location).\n",
    "- Analyse des tendances :\n",
    "    - Tendances par secteur (basé sur les mots-clés dans title ou description).\n",
    "    - Entreprises les plus attractives (basé sur views)."
   ]
  },
  {
   "cell_type": "code",
   "execution_count": null,
   "metadata": {},
   "outputs": [],
   "source": []
  },
  {
   "cell_type": "markdown",
   "metadata": {},
   "source": [
    "### 5. Analyses Avancées et Insights ###\n",
    "\n",
    "- Segmentation des données :\n",
    "    - Comparaison des salaires par localisation.\n",
    "    - Entreprises par secteur d’activité.\n",
    "- Détection des relations et corrélations :\n",
    "    - Corrélation entre views et max_salary.\n",
    "    - Analyse des types d’emploi les plus attractifs (title, description).\n",
    "- Suggestions basées sur les insights :\n",
    "    - Quels types d’emplois attirer le plus de vues ?\n",
    "    - Quels secteurs offrent les meilleurs salaires ?"
   ]
  }
 ],
 "metadata": {
  "kernelspec": {
   "display_name": "Python 3",
   "language": "python",
   "name": "python3"
  },
  "language_info": {
   "codemirror_mode": {
    "name": "ipython",
    "version": 3
   },
   "file_extension": ".py",
   "mimetype": "text/x-python",
   "name": "python",
   "nbconvert_exporter": "python",
   "pygments_lexer": "ipython3",
   "version": "3.10.12"
  }
 },
 "nbformat": 4,
 "nbformat_minor": 2
}
