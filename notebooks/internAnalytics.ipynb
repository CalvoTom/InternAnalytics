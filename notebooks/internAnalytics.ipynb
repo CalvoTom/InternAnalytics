{
 "cells": [
  {
   "cell_type": "code",
   "execution_count": 10,
   "metadata": {},
   "outputs": [
    {
     "name": "stdout",
     "output_type": "stream",
     "text": [
      "Téléchargement en cours...\n",
      "Dataset URL: https://www.kaggle.com/datasets/arshkon/linkedin-job-postings\n",
      "Dataset téléchargé et extrait dans : ../data/raw\n"
     ]
    }
   ],
   "source": [
    "import os\n",
    "import json\n",
    "from kaggle.api.kaggle_api_extended import KaggleApi\n",
    "\n",
    "# Dowload dataset using kaggle API\n",
    "path = os.getcwd().replace(\"notebooks\", \"kaggle.json\")\n",
    "\n",
    "with open(path, 'r') as file:\n",
    "    kaggle_creds = json.load(file)\n",
    "\n",
    "os.environ[\"KAGGLE_USERNAME\"] = kaggle_creds[\"username\"]\n",
    "os.environ[\"KAGGLE_KEY\"] = kaggle_creds[\"key\"]\n",
    "\n",
    "dataset_name = 'arshkon/linkedin-job-postings'\n",
    "download_path = \"../data/raw\"\n",
    "os.makedirs(download_path, exist_ok=True)\n",
    "\n",
    "api = KaggleApi()\n",
    "api.authenticate()\n",
    "print(\"Téléchargement en cours...\")\n",
    "api.dataset_download_files(dataset_name, path=download_path, unzip=True)\n",
    "print(f\"Dataset téléchargé et extrait dans : {download_path}\")"
   ]
  }
 ],
 "metadata": {
  "kernelspec": {
   "display_name": "Python 3",
   "language": "python",
   "name": "python3"
  },
  "language_info": {
   "codemirror_mode": {
    "name": "ipython",
    "version": 3
   },
   "file_extension": ".py",
   "mimetype": "text/x-python",
   "name": "python",
   "nbconvert_exporter": "python",
   "pygments_lexer": "ipython3",
   "version": "3.10.12"
  }
 },
 "nbformat": 4,
 "nbformat_minor": 2
}
