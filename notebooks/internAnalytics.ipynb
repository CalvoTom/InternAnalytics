{
 "cells": [
  {
   "cell_type": "markdown",
   "metadata": {},
   "source": [
    "# <center> InternAnalytics </center> #"
   ]
  },
  {
   "cell_type": "markdown",
   "metadata": {},
   "source": [
    "### 1. Introduction ###\n",
    "Objectif :\n",
    "Le projet InternAnalytics a pour but d’analyser une base de données regroupant des offres d'emploi afin de tirer des insights exploitables pour :\n",
    "\n",
    "- Comprendre les tendances du marché de l’emploi (secteurs les plus actifs, localisations recherchées, etc.).\n",
    "- Identifier les facteurs d’attractivité des offres d’emploi (entreprises populaires, offres les plus vues).\n",
    "- Évaluer les tendances salariales en fonction des secteurs, des localisations, et des postes proposés.\n",
    "- Offrir des recommandations exploitables, par exemple :\n",
    "    -  Aux chercheurs d’emploi : quels secteurs et localisations privilégier.\n",
    "    - Aux recruteurs : comment optimiser leurs offres pour attirer plus de candidats.\n",
    "- S’informer sur les offres d’alternance :\n",
    "    - Identifier les entreprises qui proposent des contrats en alternance.\n",
    "    - Analyser les postes et secteurs qui recrutent le plus en alternance.\n",
    "    - Comprendre les salaires et avantages liés aux offres d’alternance.\n",
    "- Champs disponibles : `job_id`, `company_name`, `title`, `description`, `max_salary`, `pay_period`, `location`, `company_id`, `views, med_salary`.\n",
    "\n",
    "Ce projet vise donc à offrir une vision globale et spécifique des opportunités sur le marché, avec un focus particulier sur les alternances, pour mieux répondre aux besoins des étudiants et jeunes professionnels.\n"
   ]
  },
  {
   "cell_type": "markdown",
   "metadata": {},
   "source": [
    "### 2. Chargement des données ###\n",
    "- Importation des bibliothèques nécessaires (e.g., pandas, numpy, matplotlib, seaborn).\n",
    "- Chargement du fichier de données (CSV, SQL, ou autre).\n",
    "- Aperçu des données (df.head() et df.info())."
   ]
  },
  {
   "cell_type": "code",
   "execution_count": 10,
   "metadata": {},
   "outputs": [
    {
     "name": "stdout",
     "output_type": "stream",
     "text": [
      "Téléchargement en cours...\n",
      "Dataset URL: https://www.kaggle.com/datasets/arshkon/linkedin-job-postings\n",
      "Dataset téléchargé et extrait dans : ../data/raw\n"
     ]
    }
   ],
   "source": [
    "import os\n",
    "import json\n",
    "from kaggle.api.kaggle_api_extended import KaggleApi\n",
    "\n",
    "# Dowload dataset using kaggle API\n",
    "path = os.getcwd().replace(\"notebooks\", \"kaggle.json\")\n",
    "\n",
    "with open(path, 'r') as file:\n",
    "    kaggle_creds = json.load(file)\n",
    "\n",
    "os.environ[\"KAGGLE_USERNAME\"] = kaggle_creds[\"username\"]\n",
    "os.environ[\"KAGGLE_KEY\"] = kaggle_creds[\"key\"]\n",
    "\n",
    "dataset_name = 'arshkon/linkedin-job-postings'\n",
    "download_path = \"../data/raw\"\n",
    "os.makedirs(download_path, exist_ok=True)\n",
    "\n",
    "api = KaggleApi()\n",
    "api.authenticate()\n",
    "print(\"Téléchargement en cours...\")\n",
    "api.dataset_download_files(dataset_name, path=download_path, unzip=True)\n",
    "print(f\"Dataset téléchargé et extrait dans : {download_path}\")"
   ]
  },
  {
   "cell_type": "markdown",
   "metadata": {},
   "source": [
    "### 3. Nettoyage et Préparation des Données ###\n",
    "- Détection des données manquantes : Vérifier les colonnes avec des valeurs NaN ou vides.\n",
    "- Traitement des doublons : Vérifier et supprimer les entrées redondantes si nécessaire.\n",
    "- Standardisation des colonnes : Par exemple, uniformiser les formats des - salaires (max_salary, med_salary) ou des localisations (location).\n",
    "- Conversion des types de données pour faciliter l’analyse :\n",
    "    - pay_period en fréquence (mensuel, annuel, etc.).\n",
    "views en entier.\n",
    "    - Extraction de catégories pertinentes à partir de description (ex : analyse des mots-clés)."
   ]
  },
  {
   "cell_type": "markdown",
   "metadata": {},
   "source": [
    "### 4. Exploration des Données (EDA - Exploratory Data Analysis) ###\n",
    "- Statistiques descriptives :\n",
    "    - Distribution des salaires (max_salary, med_salary).\n",
    "    - Entreprises avec le plus d’offres (company_name).\n",
    "- Visualisation des données :\n",
    "    - Histogrammes et boxplots pour les salaires.\n",
    "    - Nuage de points pour corréler les salaires et les vues.\n",
    "    - Graphiques géographiques pour la localisation des offres (location).\n",
    "- Analyse des tendances :\n",
    "    - Tendances par secteur (basé sur les mots-clés dans title ou description).\n",
    "    - Entreprises les plus attractives (basé sur views)."
   ]
  },
  {
   "cell_type": "markdown",
   "metadata": {},
   "source": [
    "### 5. Analyses Avancées et Insights ###\n",
    "\n",
    "- Segmentation des données :\n",
    "    - Comparaison des salaires par localisation.\n",
    "    - Entreprises par secteur d’activité.\n",
    "- Détection des relations et corrélations :\n",
    "    - Corrélation entre views et max_salary.\n",
    "    - Analyse des types d’emploi les plus attractifs (title, description).\n",
    "- Suggestions basées sur les insights :\n",
    "    - Quels types d’emplois attirer le plus de vues ?\n",
    "    - Quels secteurs offrent les meilleurs salaires ?"
   ]
  }
 ],
 "metadata": {
  "kernelspec": {
   "display_name": "Python 3",
   "language": "python",
   "name": "python3"
  },
  "language_info": {
   "codemirror_mode": {
    "name": "ipython",
    "version": 3
   },
   "file_extension": ".py",
   "mimetype": "text/x-python",
   "name": "python",
   "nbconvert_exporter": "python",
   "pygments_lexer": "ipython3",
   "version": "3.10.12"
  }
 },
 "nbformat": 4,
 "nbformat_minor": 2
}
